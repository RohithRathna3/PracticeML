{
 "cells": [
  {
   "cell_type": "markdown",
   "metadata": {},
   "source": [
    "Write a Python Program(with class concepts) to find the area of the triangle using the below\n",
    "formula.\n",
    "area = (s*(s-a)*(s-b)*(s-c)) ** 0.5\n",
    "Function to take the length of the sides of triangle from user should be defined in the parent\n",
    "class and function to calculate the area should be defined in subclass."
   ]
  },
  {
   "cell_type": "code",
   "execution_count": 1,
   "metadata": {},
   "outputs": [
    {
     "name": "stdout",
     "output_type": "stream",
     "text": [
      "enter side a: 20\n",
      "enter side b: 20\n",
      "enter side c: 10\n",
      "96.82\n"
     ]
    }
   ],
   "source": [
    "class triangle:\n",
    "    \n",
    "    def __init__(self):\n",
    "        \n",
    "        self.a = float(input(\"enter side a: \"))\n",
    "        self.b = float(input(\"enter side b: \"))\n",
    "        self.c = float(input(\"enter side c: \"))\n",
    "        \n",
    "class subClass(triangle):\n",
    "    \n",
    "    #def __init__(self):\n",
    "    #    triangle.__init__(a,b,c)\n",
    "    \n",
    "    def calcArea(self):\n",
    "        s = (self.a+self.b+self.c)/2\n",
    "        area =(s*(s-self.a)*(s-self.b)*(s-self.c)) ** 0.5\n",
    "        return \"%0.2f\" %area\n",
    "\n",
    "obj1 = subClass()\n",
    "print(obj1.calcArea())\n",
    "        "
   ]
  },
  {
   "cell_type": "markdown",
   "metadata": {},
   "source": [
    "Write a function filter_long_words() that takes a list of words and an integer n and returns the list\n",
    "of words that are longer than n."
   ]
  },
  {
   "cell_type": "code",
   "execution_count": 2,
   "metadata": {},
   "outputs": [
    {
     "name": "stdout",
     "output_type": "stream",
     "text": [
      "['ineuron', 'Masters', 'program']\n"
     ]
    }
   ],
   "source": [
    "def filter_long_words(lstOfWords, n):\n",
    "    \n",
    "    templist = []\n",
    "    for i in lstOfWords:\n",
    "        if(len(i) > n):\n",
    "           templist.append(i)\n",
    "    return templist\n",
    "print(filter_long_words([\"ineuron\",\"ML\",\"Masters\",\"program\"],3))"
   ]
  },
  {
   "cell_type": "markdown",
   "metadata": {},
   "source": [
    "Write a Python program using function concept that maps list of words into a list of integers\n",
    "representing the lengths of the corresponding words ."
   ]
  },
  {
   "cell_type": "code",
   "execution_count": 3,
   "metadata": {},
   "outputs": [
    {
     "name": "stdout",
     "output_type": "stream",
     "text": [
      "[2, 3, 4]\n"
     ]
    }
   ],
   "source": [
    "def func(lstOfword):\n",
    "    \n",
    "    listOfint = []\n",
    "    \n",
    "    for i in lstOfword:\n",
    "        listOfint.append(len(i))\n",
    "    return listOfint\n",
    "\n",
    "print(func([\"ab\",\"cde\",\"erty\"]))        "
   ]
  },
  {
   "cell_type": "markdown",
   "metadata": {},
   "source": [
    "Write a Python function which takes a character (i.e. a string of length 1) and returns True if it is\n",
    "a vowel, False otherwise."
   ]
  },
  {
   "cell_type": "code",
   "execution_count": 5,
   "metadata": {},
   "outputs": [
    {
     "name": "stdout",
     "output_type": "stream",
     "text": [
      "True\n",
      "False\n"
     ]
    }
   ],
   "source": [
    "def func(ch):\n",
    "    \n",
    "    lst = ['a','e','i','o','u']\n",
    "    \n",
    "    if ch in lst:\n",
    "        return True\n",
    "    else:\n",
    "        return False\n",
    "\n",
    "print(func('a'))\n",
    "print(func('v'))"
   ]
  },
  {
   "cell_type": "code",
   "execution_count": null,
   "metadata": {},
   "outputs": [],
   "source": []
  }
 ],
 "metadata": {
  "kernelspec": {
   "display_name": "Python 3",
   "language": "python",
   "name": "python3"
  },
  "language_info": {
   "codemirror_mode": {
    "name": "ipython",
    "version": 3
   },
   "file_extension": ".py",
   "mimetype": "text/x-python",
   "name": "python",
   "nbconvert_exporter": "python",
   "pygments_lexer": "ipython3",
   "version": "3.7.6"
  }
 },
 "nbformat": 4,
 "nbformat_minor": 4
}
