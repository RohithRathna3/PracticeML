{
 "cells": [
  {
   "cell_type": "markdown",
   "metadata": {},
   "source": [
    "Write a Python Program to implement your own myreduce() function which works exactly like\n",
    "Python's built-in function reduce()"
   ]
  },
  {
   "cell_type": "code",
   "execution_count": 43,
   "metadata": {},
   "outputs": [
    {
     "name": "stdout",
     "output_type": "stream",
     "text": [
      "34\n"
     ]
    }
   ],
   "source": [
    "#python function to do as a,b = a+b\n",
    "\n",
    "def myreduce(lst):\n",
    "    \n",
    "    tempLst = []\n",
    "    sumOfEle =0\n",
    "    for i in lst:\n",
    "        tempLst.append(i)\n",
    "        if(len(lst) < 2):\n",
    "            tempLst.append(0)\n",
    "            sumOfEle = tempLst[0]+tempLst[1]\n",
    "        elif(len(tempLst) == 2):\n",
    "            sumOfEle = tempLst[0]+tempLst[1]\n",
    "        elif(len(tempLst) > 2):\n",
    "            sumOfEle+=i\n",
    "    return sumOfEle\n",
    "\n",
    "    \n",
    "print(myreduce([1,3,4,6,7,8,5]))"
   ]
  },
  {
   "cell_type": "markdown",
   "metadata": {},
   "source": [
    "Write a Python program to implement your own myfilter() function which works exactly like\n",
    "Python's built-in function filter()"
   ]
  },
  {
   "cell_type": "code",
   "execution_count": 137,
   "metadata": {},
   "outputs": [
    {
     "name": "stdout",
     "output_type": "stream",
     "text": [
      "2\n",
      "4\n",
      "6\n",
      "6\n"
     ]
    },
    {
     "data": {
      "text/plain": [
       "<function __main__.decorator_func.<locals>.inner_func()>"
      ]
     },
     "execution_count": 137,
     "metadata": {},
     "output_type": "execute_result"
    }
   ],
   "source": [
    "#Decorator to take input as function\n",
    "def decorator_func(original_func):\n",
    "    def inner_func():\n",
    "        return original_func()\n",
    "    return inner_func\n",
    "\n",
    "#function to specify custom logic\n",
    "def filter_func(lst):\n",
    "    for i in lst:\n",
    "        if(i%2) == 0:\n",
    "            print(i)\n",
    "    \n",
    "decorator_func(filter_func([1,2,3,4,5,6,7,6]))"
   ]
  },
  {
   "cell_type": "markdown",
   "metadata": {},
   "source": [
    "Implement List comprehensions to produce the following lists.\n",
    "Write List comprehensions to produce the following Lists\n",
    "['x', 'xx', 'xxx', 'xxxx', 'y', 'yy', 'yyy', 'yyyy', 'z', 'zz', 'zzz', 'zzzz']\n",
    "['x', 'y', 'z', 'xx', 'yy', 'zz', 'xx', 'yy', 'zz', 'xxxx', 'yyyy', 'zzzz']\n",
    "[[2], [3], [4], [3], [4], [5], [4], [5], [6]]\n",
    "[[2, 3, 4, 5], [3, 4, 5, 6], [4, 5, 6, 7], [5, 6, 7, 8]]\n",
    "[(1, 1), (2, 1), (3, 1), (1, 2), (2, 2), (3, 2), (1, 3), (2, 3), (3, 3)]"
   ]
  },
  {
   "cell_type": "code",
   "execution_count": 74,
   "metadata": {},
   "outputs": [
    {
     "name": "stdout",
     "output_type": "stream",
     "text": [
      "['x', 'xx', 'xxx', 'xxxx', 'y', 'yy', 'yyy', 'yyyy', 'z', 'zz', 'zzz', 'zzzz']\n"
     ]
    }
   ],
   "source": [
    "n = 4\n",
    "fstLst = [i*j for i in \"xyz\" for j in range(1,n+1)]\n",
    "print(fstLst)"
   ]
  },
  {
   "cell_type": "code",
   "execution_count": 75,
   "metadata": {},
   "outputs": [
    {
     "name": "stdout",
     "output_type": "stream",
     "text": [
      "['x', 'y', 'z', 'xx', 'yy', 'zz', 'xxx', 'yyy', 'zzz', 'xxxx', 'yyyy', 'zzzz']\n"
     ]
    }
   ],
   "source": [
    "secLst = [j*i for i in range(1,5) for j in \"xyz\"]\n",
    "print(secLst)"
   ]
  },
  {
   "cell_type": "code",
   "execution_count": 80,
   "metadata": {},
   "outputs": [
    {
     "name": "stdout",
     "output_type": "stream",
     "text": [
      "[[2], [3], [4], [3], [4], [5], [4], [5], [6]]\n"
     ]
    }
   ],
   "source": [
    "thdLst = [[i+j] for i in range(0,3) for j in range(2,5)]\n",
    "print(thdLst)"
   ]
  },
  {
   "cell_type": "code",
   "execution_count": 103,
   "metadata": {},
   "outputs": [
    {
     "name": "stdout",
     "output_type": "stream",
     "text": [
      "[[2, 3, 4, 5], [3, 4, 5, 6], [4, 5, 6, 7], [5, 6, 7, 8]]\n"
     ]
    }
   ],
   "source": [
    "fthLst = [[i+j for i in range(0,4)] for j in range(2,6)]\n",
    "print(fthLst)"
   ]
  },
  {
   "cell_type": "code",
   "execution_count": 100,
   "metadata": {},
   "outputs": [
    {
     "name": "stdout",
     "output_type": "stream",
     "text": [
      "[(1, 1), (2, 1), (3, 1), (1, 2), (2, 2), (3, 2), (1, 3), (2, 3), (3, 3)]\n"
     ]
    }
   ],
   "source": [
    "fivLst=[(j,i) for i in range(1,4) for j in range(1,4)]\n",
    "print(fivLst)"
   ]
  },
  {
   "cell_type": "markdown",
   "metadata": {},
   "source": [
    "Implement a function longestWord() that takes a list of words and returns the longest one."
   ]
  },
  {
   "cell_type": "code",
   "execution_count": 108,
   "metadata": {},
   "outputs": [
    {
     "name": "stdout",
     "output_type": "stream",
     "text": [
      "IneuronmachineLearningprogram\n"
     ]
    }
   ],
   "source": [
    "def longestWord(lst):\n",
    "    longStr = ''.join(lst)\n",
    "    return longStr\n",
    "\n",
    "print(longestWord([\"Ineuron\",\"machineLearning\",\"program\"]))\n",
    "    "
   ]
  },
  {
   "cell_type": "markdown",
   "metadata": {},
   "source": [
    "Write a Python Program(with class concepts) to find the area of the triangle using the below\n",
    "formula.\n",
    "area = (s*(s-a)*(s-b)*(s-c)) ** 0.5\n",
    "Function to take the length of the sides of triangle from user should be defined in the parent\n",
    "class and function to calculate the area should be defined in subclass."
   ]
  },
  {
   "cell_type": "code",
   "execution_count": 20,
   "metadata": {},
   "outputs": [
    {
     "name": "stdout",
     "output_type": "stream",
     "text": [
      "enter side a: 20\n",
      "enter side b: 20\n",
      "enter side c: 10\n",
      "96.82\n"
     ]
    }
   ],
   "source": [
    "class triangle:\n",
    "    \n",
    "    def __init__(self):\n",
    "        \n",
    "        self.a = float(input(\"enter side a: \"))\n",
    "        self.b = float(input(\"enter side b: \"))\n",
    "        self.c = float(input(\"enter side c: \"))\n",
    "        \n",
    "class subClass(triangle):\n",
    "    \n",
    "    #def __init__(self):\n",
    "    #    triangle.__init__(a,b,c)\n",
    "    \n",
    "    def calcArea(self):\n",
    "        s = (self.a+self.b+self.c)/2\n",
    "        area =(s*(s-self.a)*(s-self.b)*(s-self.c)) ** 0.5\n",
    "        return \"%0.2f\" %area\n",
    "\n",
    "obj1 = subClass()\n",
    "print(obj1.calcArea())\n",
    "        "
   ]
  },
  {
   "cell_type": "markdown",
   "metadata": {},
   "source": [
    "Write a function filter_long_words() that takes a list of words and an integer n and returns the list\n",
    "of words that are longer than n."
   ]
  },
  {
   "cell_type": "code",
   "execution_count": 116,
   "metadata": {},
   "outputs": [
    {
     "name": "stdout",
     "output_type": "stream",
     "text": [
      "['ineuron', 'Masters', 'program']\n"
     ]
    }
   ],
   "source": [
    "def filter_long_words(lstOfWords, n):\n",
    "    \n",
    "    templist = []\n",
    "    for i in lstOfWords:\n",
    "        if(len(i) > n):\n",
    "           templist.append(i)\n",
    "    return templist\n",
    "print(filter_long_words([\"ineuron\",\"ML\",\"Masters\",\"program\"],3))"
   ]
  },
  {
   "cell_type": "markdown",
   "metadata": {},
   "source": [
    "Write a Python program using function concept that maps list of words into a list of integers\n",
    "representing the lengths of the corresponding words ."
   ]
  },
  {
   "cell_type": "code",
   "execution_count": 121,
   "metadata": {},
   "outputs": [
    {
     "name": "stdout",
     "output_type": "stream",
     "text": [
      "[2, 3, 4]\n"
     ]
    }
   ],
   "source": [
    "def func(lstOfword):\n",
    "    \n",
    "    listOfint = []\n",
    "    \n",
    "    for i in lstOfword:\n",
    "        listOfint.append(len(i))\n",
    "    return listOfint\n",
    "\n",
    "print(func([\"ab\",\"cde\",\"erty\"]))        "
   ]
  },
  {
   "cell_type": "markdown",
   "metadata": {},
   "source": [
    "Write a Python function which takes a character (i.e. a string of length 1) and returns True if it is\n",
    "a vowel, False otherwise."
   ]
  },
  {
   "cell_type": "code",
   "execution_count": 127,
   "metadata": {},
   "outputs": [
    {
     "name": "stdout",
     "output_type": "stream",
     "text": [
      "True\n",
      "False\n"
     ]
    }
   ],
   "source": [
    "def func(ch):\n",
    "    \n",
    "    lst = ['a','e','i','o','u']\n",
    "    \n",
    "    if ch in lst:\n",
    "        return True\n",
    "    else:\n",
    "        return False\n",
    "\n",
    "print(func('a'))\n",
    "print(func('v'))"
   ]
  }
 ],
 "metadata": {
  "kernelspec": {
   "display_name": "Python 3",
   "language": "python",
   "name": "python3"
  }
 },
 "nbformat": 4,
 "nbformat_minor": 4
}
