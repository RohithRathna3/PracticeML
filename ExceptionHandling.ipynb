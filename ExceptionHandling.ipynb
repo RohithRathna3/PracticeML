{
 "cells": [
  {
   "cell_type": "markdown",
   "metadata": {},
   "source": [
    "Write a function to compute 5/0 and use try/except to catch the exceptions"
   ]
  },
  {
   "cell_type": "code",
   "execution_count": 17,
   "metadata": {},
   "outputs": [
    {
     "name": "stdout",
     "output_type": "stream",
     "text": [
      "Cannot divide a value with Zero, please check\n"
     ]
    }
   ],
   "source": [
    "def excepFunc(inp,div):\n",
    "    \n",
    "    \n",
    "    try:\n",
    "        out=inp/div\n",
    "        print(out)\n",
    "    \n",
    "    #Exception is super class of all exceptions\n",
    "    #except Exception as e:\n",
    "    #    print(\"Exception occured \"+ str(e))\n",
    "    \n",
    "    except ZeroDivisionError:\n",
    "        print(\"Cannot divide a value with Zero, please check\")\n",
    "    \n",
    "    #this executes on when try block successfully executes\n",
    "    else:\n",
    "        pass\n",
    "    \n",
    "    finally:\n",
    "        pass\n",
    "    \n",
    "excepFunc(5,0)"
   ]
  },
  {
   "cell_type": "markdown",
   "metadata": {},
   "source": [
    "Implement a Python program to generate all sentences where subject is in\n",
    "[\"Americans\", \"Indians\"] and verb is in [\"Play\", \"watch\"] and the object is in\n",
    "[\"Baseball\",\"cricket\"]."
   ]
  },
  {
   "cell_type": "code",
   "execution_count": 69,
   "metadata": {},
   "outputs": [
    {
     "name": "stdout",
     "output_type": "stream",
     "text": [
      "Americans  play Baseball\n",
      "Americans  play Cricket\n",
      "Americans  watch Baseball\n",
      "Americans  watch Cricket\n",
      "Indians play Baseball\n",
      "Indians play Cricket\n",
      "Indians watch Baseball\n",
      "Indians watch Cricket\n"
     ]
    }
   ],
   "source": [
    "class pyProg:\n",
    "    \n",
    "    def __init__(self, subjects, verbs, objects):\n",
    "        self.subjects = subjects\n",
    "        self.verbs = verbs\n",
    "        self.objects = objects\n",
    "    \n",
    "    def subVer(self):\n",
    "        for i in self.subjects:\n",
    "            for j in self.verbs:\n",
    "                for s in self.objects:\n",
    "                    print(\"{} {} {}\".format(i,j,s))\n",
    "\n",
    "        \n",
    "    \n",
    "subjects=[\"Americans \",\"Indians\"]\n",
    "verbs=[\"play\",\"watch\"]\n",
    "objects=[\"Baseball\",\"Cricket\"]\n",
    "\n",
    "a = pyProg(subjects,verbs,objects)\n",
    "a.subVer()\n",
    "\n",
    "#Using List Comprehensation\n",
    "combination_Of_Sent = [s + \" \"+ v+\" \"+o for s in subjects for v in verbs for o in objects]\n",
    "#for i in combination_Of_Sent:\n",
    "#    print(i)"
   ]
  }
 ],
 "metadata": {
  "kernelspec": {
   "display_name": "Python 3",
   "language": "python",
   "name": "python3"
  },
  "language_info": {
   "codemirror_mode": {
    "name": "ipython",
    "version": 3
   },
   "file_extension": ".py",
   "mimetype": "text/x-python",
   "name": "python",
   "nbconvert_exporter": "python",
   "pygments_lexer": "ipython3",
   "version": "3.7.6"
  }
 },
 "nbformat": 4,
 "nbformat_minor": 4
}
