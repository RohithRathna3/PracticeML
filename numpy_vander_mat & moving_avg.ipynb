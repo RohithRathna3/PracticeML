{
 "cells": [
  {
   "cell_type": "markdown",
   "metadata": {},
   "source": [
    "##### Write a function so that the columns of the output matrix are powers of the input vector.\n",
    "##### The order of the powers is determined by the increasing boolean argument. Specifically, when increasing is False, the i-th output column is the input vector raised element-wise to the power of N - i - 1.\n",
    "##### HINT: Such a matrix with a geometric progression in each row is named for Alexandre-Theophile Vandermonde."
   ]
  },
  {
   "cell_type": "code",
   "execution_count": 1,
   "metadata": {},
   "outputs": [],
   "source": [
    "#import numpy library\n",
    "import numpy as np"
   ]
  },
  {
   "cell_type": "code",
   "execution_count": 2,
   "metadata": {},
   "outputs": [],
   "source": [
    "#initialize 1-D array\n",
    "arr=np.array([2,2,3,4])"
   ]
  },
  {
   "cell_type": "code",
   "execution_count": 3,
   "metadata": {},
   "outputs": [],
   "source": [
    "#Initialize no of columns in N\n",
    "N=4"
   ]
  },
  {
   "cell_type": "code",
   "execution_count": 4,
   "metadata": {},
   "outputs": [
    {
     "name": "stdout",
     "output_type": "stream",
     "text": [
      "=================output when increasing set to False==============\n",
      "[[ 1  1  1]\n",
      " [ 4  2  1]\n",
      " [ 9  3  1]\n",
      " [16  4  1]\n",
      " [25  5  1]]\n",
      "===================Ouput when increasing set to True==============\n",
      "[[ 1  1  1]\n",
      " [ 1  2  4]\n",
      " [ 1  3  9]\n",
      " [ 1  4 16]\n",
      " [ 1  5 25]]\n"
     ]
    }
   ],
   "source": [
    "#Function to implement the vander matrix logic\n",
    "#Function which takes input as a array or Vector and N.\n",
    "\n",
    "def gen_vander_matrix(inputvector, N, increasing=False):\n",
    "    \n",
    "    if not increasing:\n",
    "        out_mat = np.array([x**(N-1-i) for x in inputvector for i in range(N)]).reshape(len(inputvector),N)\n",
    "    elif increasing:\n",
    "        out_mat = np.array([x**i for x in inputvector for i in range(N)]).reshape(len(inputvector),N)\n",
    "    \n",
    "    return out_mat\n",
    "\n",
    "inputvector=np.array([1,2,3,4,5])\n",
    "N=3\n",
    "\n",
    "print(\"=================output when increasing set to False==============\")\n",
    "print(gen_vander_matrix(inputvector,N))\n",
    "\n",
    "print(\"===================Ouput when increasing set to True==============\")\n",
    "print(gen_vander_matrix(inputvector,N, True))"
   ]
  },
  {
   "cell_type": "markdown",
   "metadata": {},
   "source": [
    "##### Given a sequence of n values x1, x2, ..., xn and a window size k>0, the k-th moving average of the given sequence is defined as follows:\n",
    "The moving average sequence has n-k+1 elements as shown below."
   ]
  },
  {
   "cell_type": "markdown",
   "metadata": {},
   "source": [
    "Write a function to find moving average in an array over a window:\n",
    "Test it over [3, 5, 7, 2, 8, 10, 11, 65, 72, 81, 99, 100, 150] and window of 3."
   ]
  },
  {
   "cell_type": "code",
   "execution_count": 6,
   "metadata": {},
   "outputs": [
    {
     "data": {
      "text/plain": [
       "array([  5.        ,   4.66666667,   5.66666667,   6.66666667,\n",
       "         9.66666667,  28.66666667,  49.33333333,  72.66666667,\n",
       "        84.        ,  93.33333333, 116.33333333])"
      ]
     },
     "execution_count": 6,
     "metadata": {},
     "output_type": "execute_result"
    }
   ],
   "source": [
    "#Function to find moving average of a sequence.\n",
    "#FUnction takes seq as input array and window_size\n",
    "def moving_avg(inp_arr,win_size):\n",
    "    \n",
    "    #Initialize an empty array\n",
    "    emp_arr=np.array([])\n",
    "    #Find the no of values based on the formula (n-k+1)\n",
    "    #where n is legnth of seq and k is window size\n",
    "    val=len(inp_arr)-win_size+1\n",
    "    \n",
    "    #For loop to iterate for the range(val)\n",
    "    for i in range(val):\n",
    "        emp_arr=np.append(emp_arr, sum(np.array(inp_arr[:win_size]))/win_size)\n",
    "        inp_arr=np.delete(inp_arr,0)\n",
    "    return emp_arr\n",
    "\n",
    "seq=[3, 5, 7, 2, 8, 10, 11, 65, 72, 81, 99, 100, 150]\n",
    "moving_avg(seq,3)"
   ]
  },
  {
   "cell_type": "code",
   "execution_count": null,
   "metadata": {},
   "outputs": [],
   "source": []
  }
 ],
 "metadata": {
  "kernelspec": {
   "display_name": "Python 3",
   "language": "python",
   "name": "python3"
  },
  "language_info": {
   "codemirror_mode": {
    "name": "ipython",
    "version": 3
   },
   "file_extension": ".py",
   "mimetype": "text/x-python",
   "name": "python",
   "nbconvert_exporter": "python",
   "pygments_lexer": "ipython3",
   "version": "3.7.6"
  }
 },
 "nbformat": 4,
 "nbformat_minor": 4
}
